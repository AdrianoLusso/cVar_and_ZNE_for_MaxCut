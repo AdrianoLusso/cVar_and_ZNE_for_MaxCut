{
 "cells": [
  {
   "cell_type": "markdown",
   "id": "7bb1bde3-934a-4c20-90be-1559bc8ebc31",
   "metadata": {},
   "source": [
    "# Approximation ratios comparison"
   ]
  },
  {
   "cell_type": "code",
   "execution_count": 1,
   "id": "0d1d5bbe-b45f-40bd-81a4-838b4d0e9142",
   "metadata": {},
   "outputs": [],
   "source": [
    "import networkx as nx\n",
    "from openqaoa.problems import MaximumCut\n",
    "from qiskit_aer.noise import (NoiseModel, depolarizing_error)\n",
    "from openqaoa.backends import create_device\n",
    "from openqaoa import QAOA  \n",
    "from qiskit import transpile\n",
    "from openqaoa.utilities import ground_state_hamiltonian\n",
    "\n",
    "import os\n",
    "import json"
   ]
  },
  {
   "cell_type": "markdown",
   "id": "2564e3d8-81aa-4b8f-b259-544014fb09e3",
   "metadata": {},
   "source": [
    "### Functions"
   ]
  },
  {
   "cell_type": "code",
   "execution_count": 2,
   "id": "8112bb02-fca4-4d56-9208-589c705f44c0",
   "metadata": {},
   "outputs": [],
   "source": [
    "def read_files(problems_directories,problem_best_files,bechmarktype_director):    \n",
    "    # iterate over the problem directories\n",
    "    results = []\n",
    "    for problem_index,(problem_dir,problem_bf) in enumerate(zip(problems_directories,problem_best_files)):\n",
    "        \n",
    "        # form the complete directory for the current problem\n",
    "        file_path = 'results_cvar_qaoa/'+problem_dir+'/'+bechmarktype_director+\"/\"+'prob'+problem_bf+'.json'\n",
    "    \n",
    "        # initialize problem substructure\n",
    "\n",
    "        # create the complete filepath and the shortened filename (that is, just showing QAOA hyperparameters + cvar)\n",
    "        #file_path = os.path.join(complete_dir, problem_bf+'.json')\n",
    "        shortened_filename = problem_bf[4:-5]\n",
    "    \n",
    "        # open the file\n",
    "        with open(file_path, 'r', encoding='utf-8') as file:\n",
    "            try:\n",
    "                # load the file as a dict and get its relevant information\n",
    "                jsondata = json.load(file) \n",
    "                optimal_cost = jsondata['optimized']['cost']\n",
    "                optimal_number_evals = jsondata['optimized']['eval_number']\n",
    "                number_evals = jsondata['evals']['number_of_evals']\n",
    "\n",
    "                # update the cost, cost fev number and nfev sumatories, and the min-max values if neccesary\n",
    "                results.append({})\n",
    "                results[problem_index]['file'] = problem_bf\n",
    "                results[problem_index]['optimal_cost'] = optimal_cost\n",
    "                results[problem_index]['optimal_number_evals'] = optimal_number_evals\n",
    "                results[problem_index]['number_evals'] = number_evals\n",
    "                del jsondata\n",
    "            except json.JSONDecodeError as e:\n",
    "                print(f\"Error uploading {file_path}: {e}\")\n",
    "    \n",
    "    return results"
   ]
  },
  {
   "cell_type": "markdown",
   "id": "fbe927f8-6345-4e72-8504-81597e55cdda",
   "metadata": {},
   "source": [
    "### Read files"
   ]
  },
  {
   "cell_type": "code",
   "execution_count": 4,
   "id": "ecf90779-7577-49e2-ae1b-691872cd7f41",
   "metadata": {},
   "outputs": [],
   "source": [
    "problems_directories = ['prob0','prob1','prob2','prob3','prob4'] # directorioes for each problem\n",
    "\n",
    "best_cvar_configuration_names = [\n",
    "    '0.5_p5-standard-ramp-x-COBYLA',\n",
    "    '0.5_p4-standard-ramp-x-COBYLA',\n",
    "    '0.4_p5-standard-ramp-x-COBYLA',\n",
    "    '0.2_p5-standard-ramp-x-COBYLA',\n",
    "    '0.3_p5-standard-ramp-x-COBYLA'\n",
    "]\n",
    "\n",
    "best_exp_configuration_names = [\n",
    "    '1.0_p5-standard-ramp-x-COBYLA',\n",
    "    '1.0_p4-standard-ramp-x-COBYLA',\n",
    "    '1.0_p4-standard-ramp-x-COBYLA',\n",
    "    '1.0_p5-standard-ramp-x-COBYLA',\n",
    "    '1.0_p5-standard-ramp-x-COBYLA'\n",
    "]"
   ]
  },
  {
   "cell_type": "code",
   "execution_count": 5,
   "id": "3c4b1840-f4ab-469b-bf2a-e281ae0fdf63",
   "metadata": {},
   "outputs": [],
   "source": [
    "noiselesscvar_confs = [a+'_noiseless' for a in best_cvar_configuration_names]\n",
    "\n",
    "problems_noiselesscvar = read_files(problems_directories,noiselesscvar_confs,'noiselessCVAR' )\n",
    "#problems_noiselesscvar"
   ]
  },
  {
   "cell_type": "code",
   "execution_count": 6,
   "id": "eb9818da-045b-4f56-a719-4cd52cbcbaf8",
   "metadata": {},
   "outputs": [],
   "source": [
    "noisycvar_confs = [a+'_noisycvar' for a in best_cvar_configuration_names]\n",
    "\n",
    "problems_noisycvar = read_files(problems_directories,noisycvar_confs,'noisyCVAR' )\n",
    "#problems_noisycvar"
   ]
  },
  {
   "cell_type": "code",
   "execution_count": null,
   "id": "34fe131d-05dd-4c30-b4dc-18b01d29d971",
   "metadata": {},
   "outputs": [],
   "source": [
    "mitcvar_confs = [a+'_mitcvar' for a in best_cvar_configuration_names]\n",
    "\n",
    "problems_mitcvar = read_files(problems_directories,mitcvar_confs,'mitCVAR' )\n",
    "#problems_mitcvar"
   ]
  },
  {
   "cell_type": "code",
   "execution_count": 9,
   "id": "68ac99fe-cc41-42f3-a8fd-47c821d59376",
   "metadata": {},
   "outputs": [],
   "source": [
    "noiselessexp_confs = [a+'_noiseless' for a in best_exp_configuration_names]\n",
    "\n",
    "problems_noiselessexp = read_files(problems_directories,noiselessexp_confs,'noiselessEXP')\n",
    "#problems_noiselessexp"
   ]
  },
  {
   "cell_type": "code",
   "execution_count": 10,
   "id": "58e72ddf-355d-43a4-aa44-735809449f7d",
   "metadata": {},
   "outputs": [],
   "source": [
    "noisyexp_confs = [a+'_noisyexp' for a in best_exp_configuration_names]\n",
    "\n",
    "problems_noisyexp = read_files(problems_directories,noisyexp_confs,'noisyEXP')\n",
    "#problems_noisyexp"
   ]
  },
  {
   "cell_type": "code",
   "execution_count": 21,
   "id": "ddb9b820-2455-4c72-b7ef-467d9d6faa75",
   "metadata": {},
   "outputs": [],
   "source": [
    "mitexp_confs = [a+'_mitexp' for a in best_exp_configuration_names]\n",
    "\n",
    "problems_mitexp = read_files(problems_directories,mitexp_confs,'mitEXP')\n",
    "#problems_mitexp"
   ]
  },
  {
   "cell_type": "markdown",
   "id": "ed33fe00-2dd4-4925-9993-4741d071b178",
   "metadata": {},
   "source": [
    "## Create MaxCut Problems"
   ]
  },
  {
   "cell_type": "code",
   "execution_count": 11,
   "id": "763e2a46-3ce4-4b69-995c-dc7809661827",
   "metadata": {},
   "outputs": [],
   "source": [
    "graph1 = nx.Graph()\n",
    "graph1.add_nodes_from([0, 1, 2, 3, 4, 5, 6, 7, 8, 9])\n",
    "graph1.add_edges_from([(0, 6), (0, 8), (1, 5), (2, 7), (2, 8), (3, 5), (3, 7), (4, 8), (6, 7), (7, 9), (8, 9)])\n",
    "\n",
    "graph2 = nx.Graph()\n",
    "graph2.add_nodes_from([0, 1, 2, 3, 4, 5, 6, 7, 8, 9])\n",
    "graph2.add_edges_from([(0, 2), (0, 3), (0, 4), (0, 5), (0, 7), (0, 8), (1, 4), (1, 6), (1, 8), (1, 9), (2, 4), (2, 6), (3, 4), (3, 6), (3, 8), (3, 9), (4, 5), (4, 7), (4, 9), (5, 8), (6, 7), (7, 8), (7, 9), (8, 9)])\n",
    "\n",
    "graph3 = nx.Graph()\n",
    "graph3.add_nodes_from([0, 1, 2, 3, 4, 5, 6, 7, 8, 9])\n",
    "graph3.add_edges_from([(0, 1), (0, 2), (0, 4), (0, 9), (1, 5), (1, 6), (1, 7), (1, 8), (2, 3), (2, 4), (2, 6), (3, 4), (3, 5), (3, 6), (3, 7), (3, 8), (3, 9), (4, 5), (4, 7), (4, 8), (5, 6), (5, 7), (5, 8), (5, 9), (6, 8), (6, 9), (7, 8), (7, 9)])\n",
    "\n",
    "graph4 = nx.Graph()\n",
    "graph4.add_nodes_from([0, 1, 2, 3, 4, 5, 6, 7, 8, 9])\n",
    "graph4.add_edges_from([(0, 3), (1, 3), (1, 5), (1, 6), (1, 7), (1, 8), (1, 9), (2, 3), (3, 4), (3, 6), (3, 7), (4, 5), (4, 6), (4, 9), (5, 6), (5, 7), (5, 8), (6, 7), (6, 8), (6, 9), (7, 9), (8, 9)])\n",
    "\n",
    "graph5 = nx.Graph()\n",
    "graph5.add_nodes_from([0, 1, 2, 3, 4, 5, 6, 7, 8, 9])\n",
    "graph5.add_edges_from([(0, 5), (0, 7), (0, 8), (1, 2), (1, 3), (1, 4), (1, 6), (1, 9), (2, 3), (2, 4), (2, 5), (2, 8), (2, 9), (3, 5), (3, 6), (3, 7), (3, 9), (4, 6), (4, 7), (4, 9), (5, 6), (6, 7), (6, 8), (7, 9)])\n",
    "\n",
    "mc1 = MaximumCut(graph1)\n",
    "mc2 = MaximumCut(graph2)\n",
    "mc3 = MaximumCut(graph3)\n",
    "mc4 = MaximumCut(graph4)\n",
    "mc5 = MaximumCut(graph5)\n",
    "\n",
    "mcs = [mc1, mc2, mc3, mc4, mc5]"
   ]
  },
  {
   "cell_type": "markdown",
   "id": "8fc9b6d8-d0d0-4dcb-9666-dae9537e2c70",
   "metadata": {},
   "source": [
    "### Find the costs of the optimal solutions"
   ]
  },
  {
   "cell_type": "code",
   "execution_count": 12,
   "id": "beed0f95-2cb0-4497-b46f-a557226d7d94",
   "metadata": {},
   "outputs": [
    {
     "name": "stdout",
     "output_type": "stream",
     "text": [
      "correct solution for problem 0 : (-9.0, ['0000010110', '1000010110', '0000011110', '1111100001', '0111101001', '1111101001'])\n",
      "correct solution for problem 1 : (-16.0, ['0111010100', '1000101011'])\n",
      "correct solution for problem 2 : (-12.0, ['1001011100', '0110100011'])\n",
      "correct solution for problem 3 : (-12.0, ['1110100110', '0001011001'])\n",
      "correct solution for problem 4 : (-12.0, ['1011101000', '0100110110', '0101110110', '1010001001', '1011001001', '0100010111'])\n"
     ]
    }
   ],
   "source": [
    "optimal_costs = []\n",
    "for i,mc in enumerate(mcs):\n",
    "    \n",
    "    # get the MaxCut qubo\n",
    "    mc = mc.qubo\n",
    "    q = QAOA()    \n",
    "    q.compile(mc)\n",
    "    correct_solution = ground_state_hamiltonian(q.cost_hamil)\n",
    "    print('correct solution for problem',i,':',correct_solution)\n",
    "    optimal_costs.append(correct_solution[0])"
   ]
  },
  {
   "cell_type": "markdown",
   "id": "2c1e09e2-24b1-4959-9e06-adb4d27cc227",
   "metadata": {},
   "source": [
    "### Calculate approximation ratios"
   ]
  },
  {
   "cell_type": "code",
   "execution_count": 35,
   "id": "08e6dce9-56bb-474d-8044-8ea7e073cc04",
   "metadata": {},
   "outputs": [],
   "source": [
    "noiselesscvar_approxratios = []\n",
    "noiselessexp_approxratios = []\n",
    "noisyexp_approxratios = []\n",
    "\n",
    "noisycvar_approxratios = []\n",
    "mitexp_approxratios = []\n",
    "mitcvar_approxratios = []\n",
    "\n",
    "for i,opt_cost in enumerate(optimal_costs):\n",
    "    problems_noiselesscvar[i]['approximation_ratio'] = round(problems_noiselesscvar[i]['optimal_cost'] / opt_cost,4)\n",
    "    problems_noiselessexp[i]['approximation_ratio'] = round(problems_noiselessexp[i]['optimal_cost'] / opt_cost,4)\n",
    "    noiselessexp_approxratios.append(round(problems_noiselessexp[i]['optimal_cost'] / opt_cost,4))\n",
    "    noiselesscvar_approxratios.append(round(problems_noiselesscvar[i]['optimal_cost'] / opt_cost,4))\n",
    "\n",
    "    \n",
    "    problems_noisycvar[i]['approximation_ratio'] = round(problems_noisycvar[i]['optimal_cost'] / opt_cost,4)\n",
    "    problems_noisyexp[i]['approximation_ratio'] = round(problems_noisyexp[i]['optimal_cost'] / opt_cost,4)\n",
    "    noisycvar_approxratios.append(round(problems_noisycvar[i]['optimal_cost'] / opt_cost,4))\n",
    "    noisyexp_approxratios.append(round(problems_noisyexp[i]['optimal_cost'] / opt_cost,4))\n",
    "\n",
    "    #problems_mitcvar[i]['approximation_ratio'] = round(problems_mitcvar[i]['optimal_cost'] / opt_cost,4)\n",
    "    #problems_mitexp[i]['approximation_ratio'] = round(problems_mitexp[i]['optimal_cost'] / opt_cost,4)\n",
    "    #mitcvar_approxratios.append(round(problems_mitcvar[i]['optimal_cost'] / opt_cost,4))\n",
    "    #mitexp_approxratios.append(round(problems_mitexp[i]['optimal_cost'] / opt_cost,4))"
   ]
  },
  {
   "cell_type": "code",
   "execution_count": 27,
   "id": "86858983-26a4-470a-9108-727e10082620",
   "metadata": {},
   "outputs": [],
   "source": [
    "#problems_noiselesscvar"
   ]
  },
  {
   "cell_type": "code",
   "execution_count": 32,
   "id": "e6557be3-72e1-482b-8bdb-69214b3851e7",
   "metadata": {},
   "outputs": [],
   "source": [
    "#problems_noiselessexp"
   ]
  },
  {
   "cell_type": "markdown",
   "id": "05078295-a695-40b4-94da-873ed8b90f6e",
   "metadata": {},
   "source": [
    "### Restructure optimal fevs"
   ]
  },
  {
   "cell_type": "code",
   "execution_count": 40,
   "id": "8f998923-f10f-44bd-b6a0-24fc0422215a",
   "metadata": {},
   "outputs": [],
   "source": [
    "noiselessexp_optimalfev = []\n",
    "noisyexp_optimalfev = []\n",
    "noiselesscvar_optimalfev = []\n",
    "\n",
    "noisycvar_optimalfev = []\n",
    "mitexp_optimalfev = []\n",
    "mitcvar_optimalfev = []\n",
    "\n",
    "for i in range(5):\n",
    "    noiselesscvar_optimalfev.append(problems_noiselesscvar[i]['optimal_number_evals'])\n",
    "    noiselessexp_optimalfev.append(problems_noiselessexp[i]['optimal_number_evals'])\n",
    "    noisyexp_optimalfev.append(round(problems_noisyexp[i]['optimal_number_evals']))\n",
    "\n",
    "    noisycvar_optimalfev.append(problems_noisycvar[i]['optimal_number_evals'])\n",
    "    #mitexp_optimalfev.append(round(problems_mitexp[i]['optimal_number_evals']))\n",
    "    #mitcvar_optimalfev.append(round(problems_mitcvar[i]['optimal_number_evals']))"
   ]
  },
  {
   "cell_type": "markdown",
   "id": "f89062c9-cc9b-492a-9a42-e9b799103b9c",
   "metadata": {},
   "source": [
    "### Calculate qualities"
   ]
  },
  {
   "cell_type": "code",
   "execution_count": 29,
   "id": "b995a13a-deb4-4d46-8367-e338b46162b4",
   "metadata": {},
   "outputs": [
    {
     "name": "stdout",
     "output_type": "stream",
     "text": [
      "noiseless_cvar: 0.4996 , noiseless_exp: 0.6162\n",
      "noiseless_cvar: 0.6069 , noiseless_exp: 0.4845\n",
      "noiseless_cvar: 0.5161 , noiseless_exp: 0.4622\n",
      "noiseless_cvar: 0.5175 , noiseless_exp: 0.5098\n",
      "noiseless_cvar: 0.5543 , noiseless_exp: 0.4788\n"
     ]
    }
   ],
   "source": [
    "def quality(R,E):\n",
    "    #return round(R * (1-(E/200)),4)\n",
    "    return round(R * (1 - (E / 250)), 4) # representar en geogebra\n",
    "    \n",
    "#def quality2(R,E,E2):\n",
    "#    return round(R * (1-(E/200)) * (1-(E2/200)),4)\n",
    "\n",
    "noiselesscvar_qualities = []\n",
    "noiselessexp_qualities = []\n",
    "noisycvar_qualities = []\n",
    "noisyexp_qualities = []\n",
    "#mitcvar_qualities = []\n",
    "#mitexp_qualities = []\n",
    "\n",
    "#'mitcvar,mitexp\n",
    "for noiselesscvar,noiselessexp,noisycvar,noisyexp in zip(\n",
    "    problems_noiselesscvar,\n",
    "    problems_noiselessexp,\n",
    "    problems_noisycvar,\n",
    "    problems_noisyexp,\n",
    "    #problems_mitcvar,\n",
    "    #problems_mitexp\n",
    "    ):\n",
    "    noiselesscvar_quality = quality(noiselesscvar['approximation_ratio'],noiselesscvar['optimal_number_evals'])\n",
    "    noiselesscvar_qualities.append(noiselesscvar_quality)\n",
    "    \n",
    "    noiselessexp_quality = quality(noiselessexp['approximation_ratio'],noiselessexp['optimal_number_evals'])\n",
    "    noiselessexp_qualities.append(noiselessexp_quality)\n",
    "\n",
    "    noisycvar_quality = quality(noisycvar['approximation_ratio'],noisycvar['optimal_number_evals'])\n",
    "    noisycvar_qualities.append(noisycvar_quality)\n",
    "    \n",
    "    noisyexp_quality = quality(noisyexp['approximation_ratio'],noisyexp['optimal_number_evals'])\n",
    "    noisyexp_qualities.append(noisyexp_quality)\n",
    "\n",
    "    #mitcvar_quality = quality(mitcvar['approximation_ratio'],mitcvar['optimal_number_evals'])\n",
    "    #mitcvar_qualities.append(mitcvar_quality)\n",
    "    \n",
    "    #mitexp_quality = quality(mitexp['approximation_ratio'],mitexp['optimal_number_evals'])\n",
    "    #mitexp_qualities.append(mitexp_quality)\n",
    "    \n",
    "    print('noiseless_cvar:',noiselesscvar_quality,', noiseless_exp:',noiselessexp_quality)"
   ]
  },
  {
   "cell_type": "markdown",
   "id": "ba0c85c3-76b7-4c0e-b2e8-07f2d3fbc591",
   "metadata": {},
   "source": [
    "### Plot qualities"
   ]
  },
  {
   "cell_type": "code",
   "execution_count": 55,
   "id": "b07fd442-9f96-40e2-b4f9-1e5c03383728",
   "metadata": {},
   "outputs": [
    {
     "data": {
      "image/png": "[encoded data removed]",
      "text/plain": [
       "<Figure size 1000x300 with 1 Axes>"
      ]
     },
     "metadata": {},
     "output_type": "display_data"
    }
   ],
   "source": [
    "import numpy as np\n",
    "import matplotlib.pyplot as plt\n",
    "import seaborn as sns\n",
    "\n",
    "# Configuración del estilo con seaborn\n",
    "sns.set_theme(style=\"whitegrid\", palette=\"muted\")\n",
    "\n",
    "# Índices para las barras\n",
    "indices = np.arange(len(noiselesscvar_qualities))\n",
    "width = 0.1  # Ancho de las barras para dejar espacio entre ellas\n",
    "width2 = 0.07  # Ancho de las barras para dejar espacio entre ellas\n",
    "\n",
    "# Crear la figura y los ejes con un tamaño más pequeño\n",
    "fig, ax = plt.subplots(figsize=(10, 3))\n",
    "\n",
    "# Graficar las barras con bordes\n",
    "bars1 = ax.bar(indices - 1.5 * width, noiselesscvar_qualities, width=width, label='Noiseless CVaR',\n",
    "               color=sns.color_palette(\"deep\")[0], edgecolor='black', linewidth=1.2)\n",
    "bars2 = ax.bar(indices - 0.5 * width, noiselessexp_qualities, width=width, label='Noiseless Exp.',\n",
    "               color=sns.color_palette(\"deep\")[2], edgecolor='black', linewidth=1.2)\n",
    "bars3 = ax.bar(indices + 0.5 * width, noisycvar_qualities, width=width, label='Noisy CVaR',\n",
    "               color=sns.color_palette(\"deep\")[3], edgecolor='black', linewidth=1.2, hatch='\\\\')\n",
    "bars4 = ax.bar(indices + 1.5 * width, noisyexp_qualities, width=width, label='Noisy Exp.',\n",
    "               color='#003300', edgecolor='black', linewidth=1.2, hatch='')\n",
    "#bars5 = ax.bar(indices + width2+width2, mitexp_qualities, width=width2, label='ZNE Exp.',\n",
    "#               color=sns.color_palette(\"deep\")[4], edgecolor='black', linewidth=1.2, hatch='\\\\')\n",
    "#bars6 = ax.bar(indices + width2*2+width2, mitcvar_qualities, width=width2, label='ZNE CVaR',\n",
    "#              color=sns.color_palette(\"deep\")[5], edgecolor='black', linewidth=1.2, hatch='\\\\') # TODO CVAR + ZNE NOT IMPLEMENTED YEY\n",
    "\n",
    "\n",
    "# TODO noisy could be taken since they are pretty obvious and only interfere with the analysis.\n",
    "\n",
    "# Etiquetas y título con fuentes elegantes\n",
    "ax.set_xlabel('Problem Index', fontsize=12, fontweight='bold')\n",
    "ax.set_ylabel('Quality Value', fontsize=12, fontweight='bold')\n",
    "\n",
    "# Etiquetas del eje X más claras\n",
    "ax.set_xticks(indices)\n",
    "ax.set_xticklabels([f'P{i+1}' for i in indices], fontsize=10)\n",
    "\n",
    "# Mover la leyenda fuera del área del gráfico (fuera de la figura)\n",
    "ax.legend(frameon=True, loc=\"upper left\", fontsize=10, bbox_to_anchor=(1.05, 1))\n",
    "\n",
    "# Mejorar apariencia del gráfico\n",
    "ax.spines['top'].set_visible(False)\n",
    "ax.spines['right'].set_visible(False)\n",
    "\n",
    "# Ajustar el diseño para evitar solapamientos\n",
    "plt.tight_layout()\n",
    "\n",
    "# Mostrar el gráfico\n",
    "plt.savefig('imgs/quality_value.pdf')\n",
    "plt.show()\n"
   ]
  },
  {
   "cell_type": "markdown",
   "id": "c1e76b43-c913-4dfb-8970-c261e0fc84c9",
   "metadata": {},
   "source": [
    "### Plot approximation ratios and index of optimal funtion evaluation"
   ]
  },
  {
   "cell_type": "code",
   "execution_count": 54,
   "id": "3931b6d3-1d2a-4b71-97ff-8839930d4978",
   "metadata": {},
   "outputs": [
    {
     "data": {
      "image/png": "[encoded data removed]",
      "text/plain": [
       "<Figure size 1000x300 with 1 Axes>"
      ]
     },
     "metadata": {},
     "output_type": "display_data"
    }
   ],
   "source": [
    "import numpy as np\n",
    "import matplotlib.pyplot as plt\n",
    "import seaborn as sns\n",
    "\n",
    "# Configuración del estilo con seaborn\n",
    "sns.set_theme(style=\"whitegrid\", palette=\"muted\")\n",
    "\n",
    "# Índices para las barras\n",
    "indices = np.arange(len(noiselesscvar_qualities))\n",
    "width = 0.1  # Ancho de las barras para dejar espacio entre ellas\n",
    "width2 = 0.07  # Ancho de las barras para dejar espacio entre ellas\n",
    "\n",
    "# Crear la figura y los ejes con un tamaño más pequeño\n",
    "fig, ax = plt.subplots(figsize=(10, 3))\n",
    "\n",
    "# Graficar las barras con bordes\n",
    "bars1 = ax.bar(indices - 1.5 * width, noiselesscvar_approxratios, width=width, label='Noiseless CVaR',\n",
    "               color=sns.color_palette(\"deep\")[0], edgecolor='black', linewidth=1.2)\n",
    "bars2 = ax.bar(indices - 0.5 * width, noiselessexp_approxratios, width=width, label='Noiseless Exp.',\n",
    "               color=sns.color_palette(\"deep\")[2], edgecolor='black', linewidth=1.2)\n",
    "bars3 = ax.bar(indices + 0.5 * width, noisycvar_approxratios, width=width, label='Noisy CVaR',\n",
    "               color=sns.color_palette(\"deep\")[3], edgecolor='black', linewidth=1.2, hatch='\\\\')\n",
    "bars4 = ax.bar(indices + 1.5 * width, noisyexp_approxratios, width=width, label='Noisy Exp.',\n",
    "               color='#003300', edgecolor='black', linewidth=1.2, hatch='')\n",
    "\n",
    "#bars5 = ax.bar(indices + width2+width2, mitexp_approxratios, width=width2, label='ZNE Exp.',\n",
    "#               color=sns.color_palette(\"deep\")[4], edgecolor='black', linewidth=1.2, hatch='\\\\')\n",
    "#bars6 = ax.bar(indices + width2*2+width2, mitcvar_approxratios, width=width2, label='ZNE CVaR',\n",
    "#              color=sns.color_palette(\"deep\")[5], edgecolor='black', linewidth=1.2, hatch='\\\\') # TODO CVAR + ZNE NOT IMPLEMENTED YEY\n",
    "\n",
    "ax.set_ylim(0.4,1)\n",
    "\n",
    "# Etiquetas y título con fuentes elegantes\n",
    "ax.set_xlabel('Problem Index', fontsize=12, fontweight='bold')\n",
    "ax.set_ylabel('Approximation ratio', fontsize=12, fontweight='bold')\n",
    "\n",
    "# Etiquetas del eje X más claras\n",
    "ax.set_xticks(indices)\n",
    "ax.set_xticklabels([f'P{i+1}' for i in indices], fontsize=10)\n",
    "\n",
    "# Mover la leyenda fuera del área del gráfico (fuera de la figura)\n",
    "ax.legend(frameon=True, loc=\"upper left\", fontsize=10, bbox_to_anchor=(1.05, 1))\n",
    "\n",
    "# Mejorar apariencia del gráfico\n",
    "ax.spines['top'].set_visible(False)\n",
    "ax.spines['right'].set_visible(False)\n",
    "\n",
    "# Ajustar el diseño para evitar solapamientos\n",
    "plt.tight_layout()\n",
    "\n",
    "# Mostrar el gráfico\n",
    "plt.savefig('imgs/approximation_ratio.pdf')\n",
    "plt.show()\n"
   ]
  },
  {
   "cell_type": "code",
   "execution_count": 53,
   "id": "1904a3e5-5b10-402f-9474-8cdc5972c7ee",
   "metadata": {},
   "outputs": [
    {
     "data": {
      "image/png": "[encoded data removed]",
      "text/plain": [
       "<Figure size 1000x300 with 1 Axes>"
      ]
     },
     "metadata": {},
     "output_type": "display_data"
    }
   ],
   "source": [
    "import numpy as np\n",
    "import matplotlib.pyplot as plt\n",
    "import seaborn as sns\n",
    "\n",
    "# Configuración del estilo con seaborn\n",
    "sns.set_theme(style=\"whitegrid\", palette=\"muted\")\n",
    "\n",
    "# Índices para las barras\n",
    "indices = np.arange(len(noiselesscvar_qualities))\n",
    "width = 0.1  # Ancho de las barras para dejar espacio entre ellas\n",
    "width2 = 0.07  # Ancho de las barras para dejar espacio entre ellas\n",
    "\n",
    "# Crear la figura y los ejes con un tamaño más pequeño\n",
    "fig, ax = plt.subplots(figsize=(10, 3))\n",
    "\n",
    "# Graficar las barras con bordes\n",
    "bars1 = ax.bar(indices - 1.5*width, noiselesscvar_optimalfev, width=width, label='Noiseless CVaR',\n",
    "               color=sns.color_palette(\"deep\")[0], edgecolor='black', linewidth=1.2)\n",
    "bars2 = ax.bar(indices - 0.5*width, noiselessexp_optimalfev, width=width, label='Noiseless Exp.',\n",
    "               color=sns.color_palette(\"deep\")[2], edgecolor='black', linewidth=1.2)\n",
    "bars3 = ax.bar(indices+1.5*width, noisycvar_optimalfev, width=width, label='Noisy CVaR',\n",
    "               color=sns.color_palette(\"deep\")[3], edgecolor='black', linewidth=1.2, hatch='\\\\')\n",
    "bars4 = ax.bar(indices +0.5 *width, noisyexp_optimalfev, width=width, label='Noisy Exp.',\n",
    "               color='#003300', edgecolor='black', linewidth=1.2, hatch='')\n",
    "\n",
    "#bars5 = ax.bar(indices + width2+width2, mitexp_optimalfev, width=width2, label='ZNE Exp.',\n",
    "#               color=sns.color_palette(\"deep\")[4], edgecolor='black', linewidth=1.2, hatch='\\\\')\n",
    "#bars6 = ax.bar(indices + width2*2+width2, mitcvar_approxratios, width=width2, label='ZNE CVaR',\n",
    "#              color=sns.color_palette(\"deep\")[5], edgecolor='black', linewidth=1.2, hatch='\\\\') # TODO CVAR + ZNE NOT IMPLEMENTED YEY\n",
    "\n",
    "#ax.set_ylim(0.4,1)\n",
    "\n",
    "# Etiquetas y título con fuentes elegantes\n",
    "ax.set_xlabel('Problem Index', fontsize=12, fontweight='bold')\n",
    "ax.set_ylabel('Best function evaluation', fontsize=12, fontweight='bold')\n",
    "\n",
    "# Etiquetas del eje X más claras\n",
    "ax.set_xticks(indices)\n",
    "ax.set_xticklabels([f'P{i+1}' for i in indices], fontsize=10)\n",
    "\n",
    "# Mover la leyenda fuera del área del gráfico (fuera de la figura)\n",
    "ax.legend(frameon=True, loc=\"upper left\", fontsize=10, bbox_to_anchor=(1.05, 1))\n",
    "\n",
    "# Mejorar apariencia del gráfico\n",
    "ax.spines['top'].set_visible(False)\n",
    "ax.spines['right'].set_visible(False)\n",
    "\n",
    "# Ajustar el diseño para evitar solapamientos\n",
    "plt.tight_layout()\n",
    "\n",
    "# Mostrar el gráfico\n",
    "plt.savefig('imgs/best_function_evaluation.pdf')\n",
    "plt.show()\n"
   ]
  }
 ],
 "metadata": {
  "kernelspec": {
   "display_name": "Python 3 (ipykernel)",
   "language": "python",
   "name": "python3"
  },
  "language_info": {
   "codemirror_mode": {
    "name": "ipython",
    "version": 3
   },
   "file_extension": ".py",
   "mimetype": "text/x-python",
   "name": "python",
   "nbconvert_exporter": "python",
   "pygments_lexer": "ipython3",
   "version": "3.8.19"
  }
 },
 "nbformat": 4,
 "nbformat_minor": 5
}
